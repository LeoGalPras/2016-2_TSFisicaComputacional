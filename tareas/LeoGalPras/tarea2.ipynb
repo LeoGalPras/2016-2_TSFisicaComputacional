{
 "cells": [
  {
   "cell_type": "markdown",
   "metadata": {
    "collapsed": true
   },
   "source": [
    "# Tarea 2\n",
    "## David Leonardo Galicia Praskauer"
   ]
  },
  {
   "cell_type": "code",
   "execution_count": 90,
   "metadata": {
    "collapsed": false
   },
   "outputs": [
    {
     "data": {
      "text/plain": [
       "histo (generic function with 1 method)"
      ]
     },
     "execution_count": 90,
     "metadata": {},
     "output_type": "execute_result"
    }
   ],
   "source": [
    "function histo (N_hist::Int64)\n",
    "    datos = randn(N_hist) #genero vector lleno de azar\n",
    "    sort!(datos) #orden\n",
    "    sup = datos[N_hist] \n",
    "    inf = datos[1]\n",
    "    dx = (sup - inf)/ N_hist #largo intervalo\n",
    "    bin = zeros(Int64,N_hist) #genero bin para contar repeticiones\n",
    "    for i = 1:N_hist\n",
    "            x1 = inf\n",
    "        for j = 1 : N_hist\n",
    "            x2 = x1 + dx\n",
    "            if datos[i] <= x2\n",
    "                bin[j] += 1\n",
    "                break\n",
    "            else (datos[i] > x2 && datos[i] <= (x2 + dx))\n",
    "                x1 += dx\n",
    "            end\n",
    "        end\n",
    "    end\n",
    "    return bin\n",
    "end"
   ]
  },
  {
   "cell_type": "code",
   "execution_count": 94,
   "metadata": {
    "collapsed": false
   },
   "outputs": [
    {
     "data": {
      "text/plain": [
       "100-element Array{Int64,1}:\n",
       " 1\n",
       " 0\n",
       " 0\n",
       " 0\n",
       " 0\n",
       " 0\n",
       " 0\n",
       " 0\n",
       " 0\n",
       " 0\n",
       " 0\n",
       " 0\n",
       " 0\n",
       " ⋮\n",
       " 1\n",
       " 1\n",
       " 1\n",
       " 0\n",
       " 1\n",
       " 1\n",
       " 1\n",
       " 1\n",
       " 1\n",
       " 0\n",
       " 0\n",
       " 0"
      ]
     },
     "execution_count": 94,
     "metadata": {},
     "output_type": "execute_result"
    }
   ],
   "source": [
    "bin2 = histo(100)"
   ]
  },
  {
   "cell_type": "code",
   "execution_count": 96,
   "metadata": {
    "collapsed": false
   },
   "outputs": [
    {
     "ename": "LoadError",
     "evalue": "ArgumentError(\"haskey of NULL PyObject\")\nwhile loading In[96], in expression starting on line 2",
     "output_type": "error",
     "traceback": [
      "ArgumentError(\"haskey of NULL PyObject\")\nwhile loading In[96], in expression starting on line 2",
      "",
      " in bar at /home/leo/.julia/v0.3/PyPlot/src/PyPlot.jl:457"
     ]
    }
   ],
   "source": [
    "using PyPlot\n",
    "bar(1:100,bin2)"
   ]
  },
  {
   "cell_type": "code",
   "execution_count": null,
   "metadata": {
    "collapsed": true
   },
   "outputs": [],
   "source": []
  }
 ],
 "metadata": {
  "kernelspec": {
   "display_name": "Julia 0.3.2",
   "language": "julia",
   "name": "julia-0.3"
  },
  "language_info": {
   "file_extension": ".jl",
   "mimetype": "application/julia",
   "name": "julia",
   "version": "0.3.2"
  }
 },
 "nbformat": 4,
 "nbformat_minor": 0
}
