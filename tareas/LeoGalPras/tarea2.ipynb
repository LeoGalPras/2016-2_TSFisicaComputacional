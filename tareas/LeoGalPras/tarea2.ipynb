{
 "cells": [
  {
   "cell_type": "markdown",
   "metadata": {},
   "source": [
    "# Tarea 2\n",
    "## David Leonardo Galicia Praskauer"
   ]
  },
  {
   "cell_type": "code",
   "execution_count": 3,
   "metadata": {
    "collapsed": false
   },
   "outputs": [
    {
     "name": "stderr",
     "output_type": "stream",
     "text": [
      "INFO: Loading help data...\n"
     ]
    },
    {
     "name": "stdout",
     "output_type": "stream",
     "text": [
      "Base.randn([rng], dims or [dims...])\n",
      "\n",
      "   Generate a normally-distributed random number with mean 0 and\n",
      "   standard deviation 1. Optionally generate an array of normally-\n",
      "   distributed random numbers.\n"
     ]
    }
   ],
   "source": [
    "?randn"
   ]
  },
  {
   "cell_type": "code",
   "execution_count": 248,
   "metadata": {
    "collapsed": false
   },
   "outputs": [
    {
     "data": {
      "text/plain": [
       "hist (generic function with 1 method)"
      ]
     },
     "execution_count": 248,
     "metadata": {},
     "output_type": "execute_result"
    }
   ],
   "source": [
    "function hist (N_hist::Int64)\n",
    "    datos = randn(N_hist) #genero vector lleno de azar\n",
    "    sort!(datos) #orden\n",
    "    sup = datos[N_hist] \n",
    "    inf = datos[1]\n",
    "    dx = (sup - inf)/N_hist #largo intervalo\n",
    "    bin = zeros(Int64,N_hist) #genero bin para contar repeticiones\n",
    "    x1 = inf\n",
    "    x2 = inf + dx #defino extremos intervalo inicial\n",
    "    x3 = inf + dx\n",
    "    j = 0 #contador para el bin\n",
    "    for i = 1:N_hist\n",
    "        if (datos[i] <= x2 && datos[i] <= sup)\n",
    "                j += 1\n",
    "                bin[i]=j\n",
    "        elseif (datos[i] > x2 && datos[i]<= (x2 + dx))\n",
    "                x1 = x1 + dx\n",
    "                x2 = x2 + dx\n",
    "            j = 1\n",
    "            elseif (datos[i] > (x2 + dx))\n",
    "                x1 = x1 + dx\n",
    "                x2 = x2 + dx\n",
    "            j = 0\n",
    "        end\n",
    "    end\n",
    "    return bin, datos, sup, inf, dx\n",
    "end"
   ]
  },
  {
   "cell_type": "code",
   "execution_count": 249,
   "metadata": {
    "collapsed": false
   },
   "outputs": [
    {
     "data": {
      "text/plain": [
       "([1,0,0,0,0,2,0,0,2,0],[-0.940544,-0.421704,-0.341773,-0.341723,-0.124294,-0.111703,0.147654,0.200065,0.233682,0.833131],0.833131026476193,-0.9405439797849152,0.1773675006261108)"
      ]
     },
     "execution_count": 249,
     "metadata": {},
     "output_type": "execute_result"
    }
   ],
   "source": [
    "hist(10)"
   ]
  },
  {
   "cell_type": "code",
   "execution_count": 243,
   "metadata": {
    "collapsed": true
   },
   "outputs": [],
   "source": [
    "workspace()"
   ]
  },
  {
   "cell_type": "code",
   "execution_count": null,
   "metadata": {
    "collapsed": true
   },
   "outputs": [],
   "source": []
  }
 ],
 "metadata": {
  "kernelspec": {
   "display_name": "Julia 0.3.2",
   "language": "julia",
   "name": "julia-0.3"
  },
  "language_info": {
   "file_extension": ".jl",
   "mimetype": "application/julia",
   "name": "julia",
   "version": "0.3.2"
  }
 },
 "nbformat": 4,
 "nbformat_minor": 0
}
