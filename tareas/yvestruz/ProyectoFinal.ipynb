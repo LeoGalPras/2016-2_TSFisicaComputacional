{
 "cells": [
  {
   "cell_type": "markdown",
   "metadata": {},
   "source": [
    "# Modelo de Kermack McKendrick"
   ]
  },
  {
   "cell_type": "markdown",
   "metadata": {},
   "source": [
    "hola"
   ]
  },
  {
   "cell_type": "code",
   "execution_count": 1,
   "metadata": {
    "collapsed": false
   },
   "outputs": [],
   "source": [
    "include(\"Taylor.jl\")\n",
    "using ADT"
   ]
  },
  {
   "cell_type": "markdown",
   "metadata": {},
   "source": [
    "Las ecuaciones diferenciales que rigen el modelo para una especie son:\n",
    "\n",
    "$$ \\frac{dS}{dt} = -\\beta SI$$\n",
    "$$ \\frac{dI}{dt} = \\beta SI - \\gamma I $$\n",
    "$$ \\frac{dR}{dt} = \\gamma I $$\n",
    "donde $S$ es el número de individuos suceptibles, $I$ el de individuos infectados y $R$ el de recuperados; así como $\\beta$ es la tasa de transmisión de la infección y $\\gamma$ la tasa de recuperación de la especie.\n",
    "\n",
    "En este modelo NO tomamos en cuenta los nacimientos y muertes, así que para una población fija se tiene que $ N = S(t) + I(t) + R(t)$ en todo tiempo."
   ]
  },
  {
   "cell_type": "code",
   "execution_count": 2,
   "metadata": {
    "collapsed": false
   },
   "outputs": [
    {
     "data": {
      "text/plain": [
       "coefs_1 (generic function with 3 methods)"
      ]
     },
     "execution_count": 2,
     "metadata": {},
     "output_type": "execute_result"
    }
   ],
   "source": [
    "function coefs_1(gamma, beta, S0, I0, R0 = 0.0, n = 20)\n",
    "    s = [S0]\n",
    "    i = [I0]\n",
    "    r = [R0]\n",
    "    \n",
    "    \n",
    "    F1(S,I) = -beta*S*I\n",
    "    F2(I) = gamma*I\n",
    "    \n",
    "    for k = 1:n-1\n",
    "       \n",
    "        \n",
    "        Ts = Taylor(s)\n",
    "        Ti = Taylor(i)\n",
    "        Tr = Taylor(r)\n",
    "        \n",
    "        fs = F1(Ts,Ti) # F1 = -b*S*I\n",
    "        fr = F2(Ti) # F2 = g*I\n",
    "        \n",
    "        fi = -fs -fr # = b*S*I - g*I\n",
    "        \n",
    "        S0 = fs.pol[k]/k\n",
    "        I0 = fi.pol[k]/k\n",
    "        R0 = fr.pol[k]/k\n",
    "        \n",
    "        push!(s,S0)\n",
    "        push!(r,R0)\n",
    "        push!(i,I0)\n",
    "    end\n",
    "    s = Taylor(s)\n",
    "    i = Taylor(i)\n",
    "    r = Taylor(r)\n",
    "    return s,i,r\n",
    "        \n",
    "end"
   ]
  },
  {
   "cell_type": "markdown",
   "metadata": {},
   "source": [
    "Prueba"
   ]
  },
  {
   "cell_type": "code",
   "execution_count": 3,
   "metadata": {
    "collapsed": false,
    "scrolled": false
   },
   "outputs": [
    {
     "ename": "LoadError",
     "evalue": "LoadError: UndefVarError: coefs_2 not defined\nwhile loading In[3], in expression starting on line 155",
     "output_type": "error",
     "traceback": [
      "LoadError: UndefVarError: coefs_2 not defined\nwhile loading In[3], in expression starting on line 155",
      ""
     ]
    }
   ],
   "source": [
    "N = 1000.;\n",
    "I0 = 1.;\n",
    "S0 = N-I0;\n",
    "\n",
    "@time S,I,R = coefs_2(gamma, beta, S0, I0);"
   ]
  },
  {
   "cell_type": "markdown",
   "metadata": {},
   "source": [
    "Error absoluto"
   ]
  },
  {
   "cell_type": "code",
   "execution_count": 240,
   "metadata": {
    "collapsed": false
   },
   "outputs": [
    {
     "data": {
      "text/plain": [
       "1.0e-20"
      ]
     },
     "execution_count": 240,
     "metadata": {},
     "output_type": "execute_result"
    }
   ],
   "source": [
    "eps_abs = 1e-20"
   ]
  },
  {
   "cell_type": "code",
   "execution_count": 231,
   "metadata": {
    "collapsed": false
   },
   "outputs": [
    {
     "data": {
      "text/plain": [
       "paso (generic function with 2 methods)"
      ]
     },
     "execution_count": 231,
     "metadata": {},
     "output_type": "execute_result"
    }
   ],
   "source": [
    "function paso(a::Taylor, p = 20)\n",
    "    \n",
    "    while p != 0 && a.pol[p] == 0\n",
    "       p = p-1;\n",
    "    end\n",
    "    \n",
    "    h = 0.5*(eps_abs/abs(a.pol[p]))^(1/p)\n",
    "end"
   ]
  },
  {
   "cell_type": "code",
   "execution_count": 241,
   "metadata": {
    "collapsed": false
   },
   "outputs": [
    {
     "data": {
      "text/plain": [
       "0.005885664739040877"
      ]
     },
     "execution_count": 241,
     "metadata": {},
     "output_type": "execute_result"
    }
   ],
   "source": [
    "paso(S[1])"
   ]
  },
  {
   "cell_type": "code",
   "execution_count": 199,
   "metadata": {
    "collapsed": false
   },
   "outputs": [
    {
     "data": {
      "text/plain": [
       "ev_horner (generic function with 1 method)"
      ]
     },
     "execution_count": 199,
     "metadata": {},
     "output_type": "execute_result"
    }
   ],
   "source": [
    "function ev_horner{T<:Number}(a::Taylor,t0::T)\n",
    "    \n",
    "    n = gradomax(a)\n",
    "    x1 = a.pol[n]\n",
    "    \n",
    "    for k = 1:n-1\n",
    "        x1 = a.pol[n-k] + x1*t0\n",
    "    end\n",
    "    return x1\n",
    "end"
   ]
  },
  {
   "cell_type": "code",
   "execution_count": 234,
   "metadata": {
    "collapsed": false
   },
   "outputs": [
    {
     "data": {
      "text/plain": [
       "integrador_kermack (generic function with 1 method)"
      ]
     },
     "execution_count": 234,
     "metadata": {},
     "output_type": "execute_result"
    }
   ],
   "source": [
    "function integrador_kermack(N, I0, t0, tf, gamma, beta)\n",
    "    R0 = 0.\n",
    "    S0 = N - I0 - R0\n",
    "    \n",
    "    t = [t0]\n",
    "    s = [S0]\n",
    "    i = [I0]\n",
    "    r = [R0]\n",
    "    \n",
    "    while t0 < tf\n",
    "        \n",
    "        S,I,R = coefs_1(gamma, beta, S0, I0)\n",
    "        \n",
    "        h_s = paso(S)\n",
    "        h_i = paso(I)\n",
    "        h_r = paso(R)\n",
    "        h = min(h_s, h_i, h_r)\n",
    "        \n",
    "        t0 += h\n",
    "        \n",
    "        S0 = ev_horner(S,h)\n",
    "        I0 = ev_horner(I,h)\n",
    "        R0 = ev_horner(R,h)\n",
    "        \n",
    "        push!(t,t0)\n",
    "        push!(s,S0)\n",
    "        push!(i,I0)\n",
    "        push!(r,R0)\n",
    "    end\n",
    "    return t,s,i,r\n",
    "end"
   ]
  },
  {
   "cell_type": "code",
   "execution_count": 250,
   "metadata": {
    "collapsed": false
   },
   "outputs": [
    {
     "name": "stdout",
     "output_type": "stream",
     "text": [
      "  0.067973 seconds (1.51 M allocations: 27.574 MB, 7.09% gc time)\n"
     ]
    }
   ],
   "source": [
    "N = 1.\n",
    "infectados_iniciales = N/1000\n",
    "t_inicial = 0.\n",
    "t_final = 160.\n",
    "beta = 0.2\n",
    "gamma = 0.1\n",
    "\n",
    "@time t,s,i,r = integrador_kermack(N, infectados_iniciales, t_inicial, t_final, gamma, beta);"
   ]
  },
  {
   "cell_type": "code",
   "execution_count": 252,
   "metadata": {
    "collapsed": false
   },
   "outputs": [
    {
     "data": {
      "text/plain": [
       "74"
      ]
     },
     "execution_count": 252,
     "metadata": {},
     "output_type": "execute_result"
    }
   ],
   "source": [
    "length(s)"
   ]
  },
  {
   "cell_type": "code",
   "execution_count": 253,
   "metadata": {
    "collapsed": false,
    "scrolled": false
   },
   "outputs": [
    {
     "data": {
      "image/png": "[encoded data removed]",
      "text/plain": [
       "PyPlot.Figure(PyObject <matplotlib.figure.Figure object at 0x000000002C03CA58>)"
      ]
     },
     "metadata": {},
     "output_type": "display_data"
    }
   ],
   "source": [
    "using PyPlot\n",
    "\n",
    "plot(t,s, color = \"green\", label = \"suceptibles\")\n",
    "plot(t,i, color = \"red\", label = \"infectados\")\n",
    "plot(t,1-s-i)\n",
    "axis([0,160,0,1])\n",
    "grid()\n",
    "legend()\n",
    "show()"
   ]
  },
  {
   "cell_type": "code",
   "execution_count": 245,
   "metadata": {
    "collapsed": false,
    "scrolled": false
   },
   "outputs": [
    {
     "data": {
      "image/png": "[encoded data removed]",
      "text/plain": [
       "PyPlot.Figure(PyObject <matplotlib.figure.Figure object at 0x000000002B7FF0B8>)"
      ]
     },
     "metadata": {},
     "output_type": "display_data"
    }
   ],
   "source": [
    "plot(t,r)\n",
    "grid()"
   ]
  },
  {
   "cell_type": "code",
   "execution_count": 13,
   "metadata": {
    "collapsed": false
   },
   "outputs": [
    {
     "data": {
      "text/plain": [
       "wtf (generic function with 1 method)"
      ]
     },
     "execution_count": 13,
     "metadata": {},
     "output_type": "execute_result"
    }
   ],
   "source": [
    "function wtf()\n",
    "    return \"WTF\"\n",
    "end"
   ]
  },
  {
   "cell_type": "code",
   "execution_count": 14,
   "metadata": {
    "collapsed": false
   },
   "outputs": [
    {
     "data": {
      "text/plain": [
       "\"WTF\""
      ]
     },
     "execution_count": 14,
     "metadata": {},
     "output_type": "execute_result"
    }
   ],
   "source": [
    "mi_reaccion_ante_la_grafica_de_r = wtf()"
   ]
  },
  {
   "cell_type": "code",
   "execution_count": 25,
   "metadata": {
    "collapsed": false
   },
   "outputs": [
    {
     "data": {
      "text/plain": [
       "true"
      ]
     },
     "execution_count": 25,
     "metadata": {},
     "output_type": "execute_result"
    }
   ],
   "source": [
    "S,I,R = coefs_1(gamma, beta, S0, I0);\n",
    "h = paso(R);\n",
    "\n",
    "a = evaluar(R,h), ev_horner(R,h);\n",
    "\n",
    "a[1] == a[2]"
   ]
  },
  {
   "cell_type": "code",
   "execution_count": 34,
   "metadata": {
    "collapsed": false
   },
   "outputs": [
    {
     "data": {
      "text/plain": [
       "5.471469367565628e-5"
      ]
     },
     "execution_count": 34,
     "metadata": {},
     "output_type": "execute_result"
    }
   ],
   "source": [
    "min(paso(R),paso(S))"
   ]
  },
  {
   "cell_type": "markdown",
   "metadata": {},
   "source": [
    "Para un sistema de $K$ especies, el modelo se vuelve\n",
    "\n",
    "$$ \\frac{dS_i}{dt} = -\\sum_{j = 1}^K \\beta_{ij} S_iI_j$$\n",
    "$$ \\frac{dI_i}{dt} = \\sum_{j = 1}^K\\beta_{ij} S_iI_j - \\gamma_i I_i $$\n",
    "$$ \\frac{dR_i}{dt} = \\gamma_i I_i $$\n",
    "donde $S$ es el número de individuos suceptibles, $I$ el de individuos infectados y $R$ el de recuperados; así como $\\beta$ es la tasa de transmisión de la infección y $\\gamma$ la tasa de recuperación de la especie.\n"
   ]
  },
  {
   "cell_type": "markdown",
   "metadata": {},
   "source": [
    "$$ \\frac{dS_i}{dt} = -\\beta_{i1} S_iI_1 - \\beta_{i2} S_iI_2 - \\beta_{i3} S_iI_3$$\n",
    "$$ \\frac{dI_i}{dt} = \\beta_{i1} S_iI_1 + \\beta_{i2} S_iI_2 + \\beta_{i3} S_iI_3 - \\gamma_i I_i $$\n",
    "$$ \\frac{dR_i}{dt} = \\gamma_i I_i $$"
   ]
  },
  {
   "cell_type": "code",
   "execution_count": 129,
   "metadata": {
    "collapsed": false
   },
   "outputs": [
    {
     "data": {
      "text/plain": [
       "coefs_3 (generic function with 3 methods)"
      ]
     },
     "execution_count": 129,
     "metadata": {},
     "output_type": "execute_result"
    }
   ],
   "source": [
    "function coefs_3(gamma, beta, S0_1, S0_2, S0_3, I0_1, I0_2, I0_3, R0 = 0.0, n = 20)\n",
    "    S = Array{Array{Float64,1},1}();\n",
    "    push!(S,[S0_1])\n",
    "    push!(S,[S0_2])\n",
    "    push!(S,[S0_3])\n",
    "    I = Array{Array{Float64,1},1}();\n",
    "    push!(I,[I0_1])\n",
    "    push!(I,[I0_2])\n",
    "    push!(I,[I0_3])\n",
    "\n",
    "        \n",
    "    F1(beta_ij,S,I) = -beta_ij*S*I\n",
    "    F2(gamma_i,I) = gamma_i*I\n",
    "    \n",
    "    for k = 1:n-1\n",
    "        Ts = [Taylor(S[j]) for j in 1:3]\n",
    "        Ti = [Taylor(I[j]) for j in 1:3]\n",
    "        \n",
    "        for i = 1:3\n",
    "            fs = 0\n",
    "            fi = 0\n",
    "            \n",
    "            for j = 1:3\n",
    "                fs += F1(beta[i,j],Ts[i],Ti[j])\n",
    "            end\n",
    "            \n",
    "            fi = -fs - F2(gamma[i],Ti[i])\n",
    "        \n",
    "            S0 = fs.pol[k]/k\n",
    "            I0 = fi.pol[k]/k\n",
    "\n",
    "            push!(S[i], S0)\n",
    "            push!(I[i], I0)\n",
    "        end\n",
    "    end\n",
    "    s = [Taylor(S[i]) for i in 1:3]\n",
    "    i = [Taylor(I[i]) for i in 1:3]\n",
    "    \n",
    "    return s,i\n",
    "end"
   ]
  },
  {
   "cell_type": "code",
   "execution_count": 81,
   "metadata": {
    "collapsed": false
   },
   "outputs": [
    {
     "data": {
      "text/plain": [
       "3-element Array{Float64,1}:\n",
       " 0.0115342\n",
       " 0.0299025\n",
       " 0.0602659"
      ]
     },
     "execution_count": 81,
     "metadata": {},
     "output_type": "execute_result"
    }
   ],
   "source": [
    "beta = rand(3,3)/3\n",
    "gamma = rand(3)/8"
   ]
  },
  {
   "cell_type": "code",
   "execution_count": 146,
   "metadata": {
    "collapsed": false
   },
   "outputs": [
    {
     "name": "stdout",
     "output_type": "stream",
     "text": [
      "  0.010534 seconds (188.90 k allocations: 3.383 MB)\n"
     ]
    }
   ],
   "source": [
    "S0_1 = 99.\n",
    "S0_2 = 90.\n",
    "S0_3 = 93.\n",
    "I0_1 = 1.\n",
    "I0_2 = 3.\n",
    "I0_3 = 2.\n",
    "\n",
    "@time coefs_3(gamma, beta, S0_1, S0_2, S0_3, I0_1, I0_2, I0_3);"
   ]
  },
  {
   "cell_type": "code",
   "execution_count": null,
   "metadata": {
    "collapsed": true
   },
   "outputs": [],
   "source": [
    "function kermack_3(N1, N2, N3, I0_1, I0_2, I0_3, t0, tf, gamma, beta)\n",
    "    S0_1 = N1 - I0_1\n",
    "    S0_2 = N2 - I0_2\n",
    "    S0_3 = N3 - I0_3\n",
    "        \n",
    "    \n",
    "    t = [t0]\n",
    "    s = Array{Array{Float64,1},1}();\n",
    "    push!(s,[S0_1])\n",
    "    push!(s,[S0_2])\n",
    "    push!(s,[S0_3])\n",
    "    i = Array{Array{Float64,1},1}();\n",
    "    push!(i,[I0_1])\n",
    "    push!(i,[I0_2])\n",
    "    push!(i,[I0_3])\n",
    "    \n",
    "    while t0 < tf\n",
    "        S,I = coefs_3(gamma, beta, S0_1, S0_2, S0_3, I0_1, I0_2, I0_3)\n",
    "        for k in 1:3\n",
    "            h_s = paso(S[k])\n",
    "            h_i = paso(I[k])\n",
    "            h = min(h_s, h_i)\n",
    "        \n",
    "            t0 += h\n",
    "        \n",
    "            S0 = ev_horner(S[k],h)\n",
    "            I0 = ev_horner(I[k],h)\n",
    "        \n",
    "            push!(t,t0)\n",
    "            push!(s,S0)\n",
    "            push!(i,I0)\n",
    "        end\n",
    "        \n",
    "    end\n",
    "    return t,s,i,r\n",
    "end"
   ]
  },
  {
   "cell_type": "code",
   "execution_count": 172,
   "metadata": {
    "collapsed": false
   },
   "outputs": [
    {
     "data": {
      "text/plain": [
       "1"
      ]
     },
     "execution_count": 172,
     "metadata": {},
     "output_type": "execute_result"
    }
   ],
   "source": [
    "N1 = 10\n",
    "I0_1 = 1\n",
    "w = symbol(\"pob\"*string(1))\n",
    "@eval "
   ]
  },
  {
   "cell_type": "code",
   "execution_count": 259,
   "metadata": {
    "collapsed": false
   },
   "outputs": [
    {
     "name": "stdout",
     "output_type": "stream",
     "text": [
      "search: sum sum! sumabs summer summary sumabs2 sumabs! sum_kbn sumabs2! cumsum\n",
      "\n"
     ]
    },
    {
     "data": {
      "text/latex": [
       "\\begin{verbatim}\n",
       "sum(A, dims)\n",
       "\\end{verbatim}\n",
       "Sum elements of an array over the given dimensions.\n",
       "\\begin{verbatim}\n",
       "sum(itr)\n",
       "\\end{verbatim}\n",
       "Returns the sum of all elements in a collection.\n",
       "\\begin{verbatim}\n",
       "sum(f, itr)\n",
       "\\end{verbatim}\n",
       "Sum the results of calling function \\texttt{f} on each element of \\texttt{itr}.\n"
      ],
      "text/markdown": [
       "```\n",
       "sum(A, dims)\n",
       "```\n",
       "\n",
       "Sum elements of an array over the given dimensions.\n",
       "\n",
       "```\n",
       "sum(itr)\n",
       "```\n",
       "\n",
       "Returns the sum of all elements in a collection.\n",
       "\n",
       "```\n",
       "sum(f, itr)\n",
       "```\n",
       "\n",
       "Sum the results of calling function `f` on each element of `itr`.\n"
      ],
      "text/plain": [
       "```\n",
       "sum(A, dims)\n",
       "```\n",
       "\n",
       "Sum elements of an array over the given dimensions.\n",
       "\n",
       "```\n",
       "sum(itr)\n",
       "```\n",
       "\n",
       "Returns the sum of all elements in a collection.\n",
       "\n",
       "```\n",
       "sum(f, itr)\n",
       "```\n",
       "\n",
       "Sum the results of calling function `f` on each element of `itr`.\n"
      ]
     },
     "execution_count": 259,
     "metadata": {},
     "output_type": "execute_result"
    }
   ],
   "source": [
    "?sum"
   ]
  },
  {
   "cell_type": "code",
   "execution_count": 182,
   "metadata": {
    "collapsed": false
   },
   "outputs": [
    {
     "data": {
      "text/plain": [
       "ADT.Taylor{Float64}([99.0,-64.81952925509975,-1386.5294954847504,-18330.659722195673,-164676.81074234235,-893052.2872493336,302968.0670289136,6.98985046569245e7,8.943413388566382e8,6.560472498117064e9,1.9767844919520264e10,-2.2912494605176575e11,-4.498656966532761e12,-4.210533233427863e13,-2.163271579366715e14,3.3184103987002106e14,2.0858929899466884e16,2.512787647948565e17,1.7392400981556022e18,3.832566379835195e18])"
      ]
     },
     "execution_count": 182,
     "metadata": {},
     "output_type": "execute_result"
    }
   ],
   "source": [
    "S,I = coefs_3(gamma, beta, S0_1, S0_2, S0_3, I0_1, I0_2, I0_3);"
   ]
  }
 ],
 "metadata": {
  "kernelspec": {
   "display_name": "Julia 0.4.3",
   "language": "julia",
   "name": "julia-0.4"
  },
  "language_info": {
   "file_extension": ".jl",
   "mimetype": "application/julia",
   "name": "julia",
   "version": "0.4.3"
  }
 },
 "nbformat": 4,
 "nbformat_minor": 0
}
