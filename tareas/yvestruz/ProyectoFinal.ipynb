{
 "cells": [
  {
   "cell_type": "markdown",
   "metadata": {},
   "source": [
    "# Modelo de Kermack McKendrick"
   ]
  },
  {
   "cell_type": "markdown",
   "metadata": {},
   "source": [
    "hola"
   ]
  },
  {
   "cell_type": "code",
   "execution_count": 4,
   "metadata": {
    "collapsed": false
   },
   "outputs": [],
   "source": [
    "include(\"Taylor.jl\")\n",
    "using ADT"
   ]
  },
  {
   "cell_type": "markdown",
   "metadata": {},
   "source": [
    "Las ecuaciones diferenciales que rigen el modelo para una especie son:\n",
    "\n",
    "$$ \\frac{dS}{dt} = -\\beta SI$$\n",
    "$$ \\frac{dI}{dt} = \\beta SI - \\gamma I $$\n",
    "$$ \\frac{dR}{dt} = \\gamma I $$\n",
    "donde $S$ es el número de individuos suceptibles, $I$ el de individuos infectados y $R$ el de recuperados; así como $\\beta$ es la tasa de transmisión de la infección y $\\gamma$ la tasa de recuperación de la especie.\n",
    "\n",
    "En este modelo NO tomamos en cuenta los nacimientos y muertes, así que para una población fija se tiene que $ N = S(t) + I(t) + R(t)$ en todo tiempo."
   ]
  },
  {
   "cell_type": "code",
   "execution_count": 93,
   "metadata": {
    "collapsed": false
   },
   "outputs": [
    {
     "data": {
      "text/plain": [
       "coefs_1 (generic function with 3 methods)"
      ]
     },
     "execution_count": 93,
     "metadata": {},
     "output_type": "execute_result"
    }
   ],
   "source": [
    "function coefs_1(gamma, beta, S0, I0, R0, n = 40)\n",
    "    s = [S0]\n",
    "    i = [I0]\n",
    "    r = [R0]\n",
    "    \n",
    "    \n",
    "    F1(S,I) = beta*S*I\n",
    "    F2(I) = gamma*I\n",
    "    \n",
    "    for k = 1:n\n",
    "       \n",
    "        \n",
    "        Ts = Taylor(s)\n",
    "        Ti = Taylor(i)\n",
    "        Tr = Taylor(r)\n",
    "        \n",
    "        fs = -F1(Ts,Ti) # F1 = -b*S*I\n",
    "        fi = F1(Ts, Ti) - F2(Ti)\n",
    "        fr = F2(Ti) # F2 = g*I\n",
    "\n",
    "        S0 = fs.pol[k]/k\n",
    "        I0 = fi.pol[k]/k\n",
    "        R0 = fr.pol[k]/k\n",
    "        \n",
    "        push!(s,S0)\n",
    "        push!(r,R0)\n",
    "        push!(i,I0)\n",
    "    end\n",
    "    s = Taylor(s)\n",
    "    i = Taylor(i)\n",
    "    r = Taylor(r)\n",
    "    return s,i,r\n",
    "        \n",
    "end"
   ]
  },
  {
   "cell_type": "markdown",
   "metadata": {},
   "source": [
    "Error absoluto"
   ]
  },
  {
   "cell_type": "code",
   "execution_count": 7,
   "metadata": {
    "collapsed": false
   },
   "outputs": [
    {
     "data": {
      "text/plain": [
       "1.0e-20"
      ]
     },
     "execution_count": 7,
     "metadata": {},
     "output_type": "execute_result"
    }
   ],
   "source": [
    "eps_abs = 1e-20"
   ]
  },
  {
   "cell_type": "code",
   "execution_count": 37,
   "metadata": {
    "collapsed": false
   },
   "outputs": [
    {
     "data": {
      "text/plain": [
       "paso (generic function with 2 methods)"
      ]
     },
     "execution_count": 37,
     "metadata": {},
     "output_type": "execute_result"
    }
   ],
   "source": [
    "function paso(a::Taylor, p = 40)\n",
    "    \n",
    "    while p != 0 && a.pol[p] == 0\n",
    "       p = p-1;\n",
    "    end\n",
    "    \n",
    "    h = 0.5*(eps_abs/abs(a.pol[p]))^(1/p)\n",
    "end"
   ]
  },
  {
   "cell_type": "code",
   "execution_count": 10,
   "metadata": {
    "collapsed": false
   },
   "outputs": [
    {
     "data": {
      "text/plain": [
       "ev_horner (generic function with 1 method)"
      ]
     },
     "execution_count": 10,
     "metadata": {},
     "output_type": "execute_result"
    }
   ],
   "source": [
    "function ev_horner{T<:Number}(a::Taylor,t0::T)\n",
    "    \n",
    "    n = gradomax(a)\n",
    "    x1 = a.pol[n]\n",
    "    \n",
    "    for k = 1:n-1\n",
    "        x1 = a.pol[n-k] + x1*t0\n",
    "    end\n",
    "    return x1\n",
    "end"
   ]
  },
  {
   "cell_type": "code",
   "execution_count": 91,
   "metadata": {
    "collapsed": false
   },
   "outputs": [
    {
     "data": {
      "text/plain": [
       "integrador_kermack (generic function with 2 methods)"
      ]
     },
     "execution_count": 91,
     "metadata": {},
     "output_type": "execute_result"
    }
   ],
   "source": [
    "function integrador_kermack(N, I0, R0, t0, tf, gamma, beta)\n",
    "    S0 = N - I0 - R0\n",
    "    \n",
    "    t = [t0]\n",
    "    s = [S0]\n",
    "    i = [I0]\n",
    "    r = [R0]\n",
    "    \n",
    "    while t0 < tf\n",
    "        \n",
    "        S,I,R = coefs_1(gamma, beta, S0, I0, R0)\n",
    "        \n",
    "        h_s = paso(S)\n",
    "        h_i = paso(I)\n",
    "        h_r = paso(R)\n",
    "        h = min(h_s, h_i, h_r)\n",
    "        \n",
    "        t0 += h\n",
    "        \n",
    "        S0 = ev_horner(S,h)\n",
    "        I0 = ev_horner(I,h)\n",
    "        R0 = ev_horner(R,h)\n",
    "        \n",
    "        push!(t,t0)\n",
    "        push!(s,S0)\n",
    "        push!(i,I0)\n",
    "        push!(r,R0)\n",
    "    end\n",
    "    return t,s,i,r\n",
    "end"
   ]
  },
  {
   "cell_type": "code",
   "execution_count": 94,
   "metadata": {
    "collapsed": false
   },
   "outputs": [
    {
     "name": "stdout",
     "output_type": "stream",
     "text": [
      "  0.243297 seconds (7.83 M allocations: 126.415 MB, 4.20% gc time)\n"
     ]
    }
   ],
   "source": [
    "N = 1.\n",
    "infectados_iniciales = N/1000\n",
    "recuperados_iniciales = 0.0\n",
    "t_inicial = 0.\n",
    "t_final = 160.\n",
    "beta = 0.2\n",
    "gamma = 0.1\n",
    "\n",
    "@time t,s,i,r = integrador_kermack(N, infectados_iniciales, recuperados_iniciales, t_inicial, t_final, gamma, beta);"
   ]
  },
  {
   "cell_type": "code",
   "execution_count": 98,
   "metadata": {
    "collapsed": false,
    "scrolled": false
   },
   "outputs": [
    {
     "data": {
      "image/png": "[encoded data removed]",
      "text/plain": [
       "PyPlot.Figure(PyObject <matplotlib.figure.Figure object at 0x000000002D08EE80>)"
      ]
     },
     "metadata": {},
     "output_type": "display_data"
    }
   ],
   "source": [
    "using PyPlot\n",
    "\n",
    "plot(t,s, color = \"green\", label = \"suceptibles\")\n",
    "plot(t,i, color = \"red\", label = \"infectados\")\n",
    "plot(t,r, color = \"blue\", label = \"recuperados\")\n",
    "axis([0,160,0,1.15])\n",
    "grid()\n",
    "legend()\n",
    "show()"
   ]
  },
  {
   "cell_type": "markdown",
   "metadata": {},
   "source": [
    "Para un sistema de $K$ especies, el modelo se vuelve\n",
    "\n",
    "$$ \\frac{dS_i}{dt} = -\\sum_{j = 1}^K \\beta_{ij} S_iI_j$$\n",
    "$$ \\frac{dI_i}{dt} = \\sum_{j = 1}^K\\beta_{ij} S_iI_j - \\gamma_i I_i $$\n",
    "$$ \\frac{dR_i}{dt} = \\gamma_i I_i $$\n",
    "donde $S$ es el número de individuos suceptibles, $I$ el de individuos infectados y $R$ el de recuperados; así como $\\beta$ es la tasa de transmisión de la infección y $\\gamma$ la tasa de recuperación de la especie.\n"
   ]
  },
  {
   "cell_type": "markdown",
   "metadata": {},
   "source": [
    "$$ \\frac{dS_i}{dt} = -\\beta_{i1} S_iI_1 - \\beta_{i2} S_iI_2 - \\beta_{i3} S_iI_3$$\n",
    "$$ \\frac{dI_i}{dt} = \\beta_{i1} S_iI_1 + \\beta_{i2} S_iI_2 + \\beta_{i3} S_iI_3 - \\gamma_i I_i $$\n",
    "$$ \\frac{dR_i}{dt} = \\gamma_i I_i $$"
   ]
  },
  {
   "cell_type": "code",
   "execution_count": 20,
   "metadata": {
    "collapsed": false
   },
   "outputs": [
    {
     "data": {
      "text/plain": [
       "coefs_3 (generic function with 3 methods)"
      ]
     },
     "execution_count": 20,
     "metadata": {},
     "output_type": "execute_result"
    }
   ],
   "source": [
    "function coefs_3(gamma, beta, S0_1, S0_2, S0_3, I0_1, I0_2, I0_3, R0 = 0.0, n = 20)\n",
    "    S = Array{Array{Float64,1},1}();\n",
    "    push!(S,[S0_1])\n",
    "    push!(S,[S0_2])\n",
    "    push!(S,[S0_3])\n",
    "    I = Array{Array{Float64,1},1}();\n",
    "    push!(I,[I0_1])\n",
    "    push!(I,[I0_2])\n",
    "    push!(I,[I0_3])\n",
    "\n",
    "        \n",
    "    F1(beta_ij,S,I) = -beta_ij*S*I\n",
    "    F2(gamma_i,I) = gamma_i*I\n",
    "    \n",
    "    for k = 1:n-1\n",
    "        Ts = [Taylor(S[j]) for j in 1:3]\n",
    "        Ti = [Taylor(I[j]) for j in 1:3]\n",
    "        \n",
    "        for i = 1:3\n",
    "            fs = 0\n",
    "            fi = 0\n",
    "            \n",
    "            for j = 1:3\n",
    "                fs += F1(beta[i,j],Ts[i],Ti[j])\n",
    "            end\n",
    "            \n",
    "            fi = -fs - F2(gamma[i],Ti[i])\n",
    "        \n",
    "            S0 = fs.pol[k]/k\n",
    "            I0 = fi.pol[k]/k\n",
    "\n",
    "            push!(S[i], S0)\n",
    "            push!(I[i], I0)\n",
    "        end\n",
    "    end\n",
    "    s = [Taylor(S[i]) for i in 1:3]\n",
    "    i = [Taylor(I[i]) for i in 1:3]\n",
    "    \n",
    "    return s,i\n",
    "end"
   ]
  },
  {
   "cell_type": "code",
   "execution_count": 21,
   "metadata": {
    "collapsed": false
   },
   "outputs": [
    {
     "data": {
      "text/plain": [
       "3-element Array{Float64,1}:\n",
       " 0.0758233\n",
       " 0.0964587\n",
       " 0.0495617"
      ]
     },
     "execution_count": 21,
     "metadata": {},
     "output_type": "execute_result"
    }
   ],
   "source": [
    "beta = rand(3,3)/3\n",
    "gamma = rand(3)/8"
   ]
  },
  {
   "cell_type": "code",
   "execution_count": 22,
   "metadata": {
    "collapsed": false
   },
   "outputs": [
    {
     "name": "stdout",
     "output_type": "stream",
     "text": [
      "  0.443010 seconds (618.56 k allocations: 26.295 MB, 2.19% gc time)\n"
     ]
    }
   ],
   "source": [
    "S0_1 = 99.\n",
    "S0_2 = 90.\n",
    "S0_3 = 93.\n",
    "I0_1 = 1.\n",
    "I0_2 = 3.\n",
    "I0_3 = 2.\n",
    "\n",
    "@time coefs_3(gamma, beta, S0_1, S0_2, S0_3, I0_1, I0_2, I0_3);"
   ]
  },
  {
   "cell_type": "code",
   "execution_count": 23,
   "metadata": {
    "collapsed": false
   },
   "outputs": [
    {
     "data": {
      "text/plain": [
       "kermack_3 (generic function with 1 method)"
      ]
     },
     "execution_count": 23,
     "metadata": {},
     "output_type": "execute_result"
    }
   ],
   "source": [
    "function kermack_3(N1, N2, N3, I0_1, I0_2, I0_3, t0, tf, gamma, beta)\n",
    "    S0_1 = N1 - I0_1\n",
    "    S0_2 = N2 - I0_2\n",
    "    S0_3 = N3 - I0_3\n",
    "        \n",
    "    \n",
    "    t = [t0]\n",
    "    s = Array{Array{Float64,1},1}();\n",
    "    push!(s,[S0_1])\n",
    "    push!(s,[S0_2])\n",
    "    push!(s,[S0_3])\n",
    "    i = Array{Array{Float64,1},1}();\n",
    "    push!(i,[I0_1])\n",
    "    push!(i,[I0_2])\n",
    "    push!(i,[I0_3])\n",
    "    \n",
    "    while t0 < tf\n",
    "        S0_1 = s[1][end]\n",
    "        S0_2 = s[2][end]\n",
    "        S0_3 = s[2][end]\n",
    "        I0_1 = i[1][end]\n",
    "        I0_2 = i[2][end]\n",
    "        I0_3 = i[3][end]\n",
    "        \n",
    "        S,I = coefs_3(gamma, beta, S0_1, S0_2, S0_3, I0_1, I0_2, I0_3)\n",
    "        for k in 1:3\n",
    "            h_s = paso(S[k])\n",
    "            h_i = paso(I[k])\n",
    "            h = min(h_s, h_i)\n",
    "        \n",
    "            t0 += h\n",
    "        \n",
    "            S0 = ev_horner(S[k],h)\n",
    "            I0 = ev_horner(I[k],h)\n",
    "        \n",
    "            push!(t,t0)\n",
    "            push!(s[k],S0)\n",
    "            push!(i[k],I0)\n",
    "        end\n",
    "        \n",
    "    end\n",
    "    return t,s,i\n",
    "end"
   ]
  },
  {
   "cell_type": "code",
   "execution_count": 24,
   "metadata": {
    "collapsed": false
   },
   "outputs": [
    {
     "ename": "LoadError",
     "evalue": "LoadError: UndefVarError: I1 not defined\nwhile loading In[24], in expression starting on line 1",
     "output_type": "error",
     "traceback": [
      "LoadError: UndefVarError: I1 not defined\nwhile loading In[24], in expression starting on line 1",
      ""
     ]
    }
   ],
   "source": [
    "S,I = coefs_3(gamma, beta, S0_1, S0_2, S0_3, I1, I2, I3);"
   ]
  },
  {
   "cell_type": "code",
   "execution_count": 25,
   "metadata": {
    "collapsed": false
   },
   "outputs": [
    {
     "ename": "LoadError",
     "evalue": "LoadError: MethodError: `getindex` has no method matching getindex(::ADT.Taylor{Float64}, ::Int64)\nwhile loading In[25], in expression starting on line 1",
     "output_type": "error",
     "traceback": [
      "LoadError: MethodError: `getindex` has no method matching getindex(::ADT.Taylor{Float64}, ::Int64)\nwhile loading In[25], in expression starting on line 1",
      ""
     ]
    }
   ],
   "source": [
    "h_s = paso(S[1])\n",
    "h_i = paso(I[1])\n",
    "h = min(h_s, h_i)\n",
    "s0 = ev_horner(S[1], h)"
   ]
  },
  {
   "cell_type": "code",
   "execution_count": 26,
   "metadata": {
    "collapsed": false
   },
   "outputs": [
    {
     "ename": "LoadError",
     "evalue": "LoadError: MethodError: `push!` has no method matching push!(::Float64, ::Float64)\nClosest candidates are:\n  push!(::Any, ::Any, !Matched::Any)\n  push!(::Any, ::Any, !Matched::Any, !Matched::Any...)\n  push!(!Matched::Array{Any,1}, ::ANY)\n  ...\nwhile loading In[26], in expression starting on line 2",
     "output_type": "error",
     "traceback": [
      "LoadError: MethodError: `push!` has no method matching push!(::Float64, ::Float64)\nClosest candidates are:\n  push!(::Any, ::Any, !Matched::Any)\n  push!(::Any, ::Any, !Matched::Any, !Matched::Any...)\n  push!(!Matched::Array{Any,1}, ::ANY)\n  ...\nwhile loading In[26], in expression starting on line 2",
      ""
     ]
    }
   ],
   "source": [
    "t0 = 1.\n",
    "while t0 < 1.5\n",
    "    S,I = coefs_3(gamma, beta, S0_1, S0_2, S0_3, I0_1, I0_2, I0_3)\n",
    "    for k in 1:3\n",
    "        h_s = paso(S[k])\n",
    "        h_i = paso(I[k])\n",
    "        h = min(h_s, h_i)\n",
    "        \n",
    "        t0 += h\n",
    "        S0 = ev_horner(S[k],h)\n",
    "        I0 = ev_horner(I[k],h)\n",
    "        \n",
    "        push!(t,t0)\n",
    "        push!(s[k],S0)\n",
    "        push!(i[k],I0)\n",
    "        end\n",
    "        \n",
    "    end"
   ]
  },
  {
   "cell_type": "code",
   "execution_count": 27,
   "metadata": {
    "collapsed": false
   },
   "outputs": [
    {
     "data": {
      "text/plain": [
       "75-element Array{Float64,1}:\n",
       "   0.0    \n",
       "   2.91704\n",
       "   5.78553\n",
       "   8.75666\n",
       "  11.4292 \n",
       "  13.9165 \n",
       "  16.2899 \n",
       "  18.591  \n",
       "  20.8718 \n",
       "  23.2177 \n",
       "  25.3173 \n",
       "  27.307  \n",
       "  29.2406 \n",
       "   ⋮      \n",
       " 124.237  \n",
       " 127.531  \n",
       " 131.038  \n",
       " 134.8    \n",
       " 138.704  \n",
       " 142.633  \n",
       " 146.647  \n",
       " 150.783  \n",
       " 155.067  \n",
       " 159.521  \n",
       " 164.17   \n",
       "   1.00438"
      ]
     },
     "execution_count": 27,
     "metadata": {},
     "output_type": "execute_result"
    }
   ],
   "source": [
    "t"
   ]
  },
  {
   "cell_type": "code",
   "execution_count": 28,
   "metadata": {
    "collapsed": false
   },
   "outputs": [
    {
     "data": {
      "text/plain": [
       "3-element Array{Array{Float64,1},1}:\n",
       " [1.0]\n",
       " [3.0]\n",
       " [2.0]"
      ]
     },
     "execution_count": 28,
     "metadata": {},
     "output_type": "execute_result"
    }
   ],
   "source": [
    "s = Array{Array{Float64,1},1}();\n",
    "    push!(s,[S0_1])\n",
    "    push!(s,[S0_2])\n",
    "    push!(s,[S0_3])\n",
    "i = Array{Array{Float64,1},1}();\n",
    "    push!(i,[I0_1])\n",
    "    push!(i,[I0_2])\n",
    "    push!(i,[I0_3])"
   ]
  },
  {
   "cell_type": "code",
   "execution_count": 29,
   "metadata": {
    "collapsed": false
   },
   "outputs": [],
   "source": [
    "S,I = coefs_3(gamma, beta, S0_1, S0_2, S0_3, I0_1, I0_2, I0_3);"
   ]
  },
  {
   "cell_type": "code",
   "execution_count": 30,
   "metadata": {
    "collapsed": false
   },
   "outputs": [
    {
     "data": {
      "text/plain": [
       "20-element Array{Float64,1}:\n",
       "     99.0       \n",
       "   -164.845     \n",
       "  -4444.07      \n",
       " -67706.6       \n",
       "     -6.28279e5 \n",
       "     -2.0333e6  \n",
       "      4.50849e7 \n",
       "      9.97353e8 \n",
       "      1.09029e10\n",
       "      5.80695e10\n",
       "     -3.62102e11\n",
       "     -1.28927e13\n",
       "     -1.67527e14\n",
       "     -1.20036e15\n",
       "      3.15549e14\n",
       "      1.47395e17\n",
       "      2.36358e18\n",
       "      2.10771e19\n",
       "      6.44181e19\n",
       "     -1.43122e21"
      ]
     },
     "execution_count": 30,
     "metadata": {},
     "output_type": "execute_result"
    }
   ],
   "source": [
    "S[1].pol"
   ]
  },
  {
   "cell_type": "code",
   "execution_count": 31,
   "metadata": {
    "collapsed": false
   },
   "outputs": [
    {
     "ename": "LoadError",
     "evalue": "LoadError: UndefVarError: i0 not defined\nwhile loading In[31], in expression starting on line 1",
     "output_type": "error",
     "traceback": [
      "LoadError: UndefVarError: i0 not defined\nwhile loading In[31], in expression starting on line 1",
      ""
     ]
    }
   ],
   "source": [
    "push!(i[1], i0)"
   ]
  },
  {
   "cell_type": "code",
   "execution_count": 32,
   "metadata": {
    "collapsed": false
   },
   "outputs": [
    {
     "ename": "LoadError",
     "evalue": "LoadError: UndefVarError: s0 not defined\nwhile loading In[32], in expression starting on line 1",
     "output_type": "error",
     "traceback": [
      "LoadError: UndefVarError: s0 not defined\nwhile loading In[32], in expression starting on line 1",
      ""
     ]
    }
   ],
   "source": [
    "push!(s[1], s0)"
   ]
  },
  {
   "cell_type": "code",
   "execution_count": 33,
   "metadata": {
    "collapsed": false
   },
   "outputs": [
    {
     "data": {
      "text/plain": [
       "([0.0,2.220440281269003,4.520552081043052,6.8426175874074335,8.814800726592248,11.02077417101408,13.359009450602034],[[0.495,0.4920625614076546,0.48879765716974627],[0.297,0.29584422998979953,0.2944488538121528],[0.198,0.2960799057806486,0.2946984227911544]],[[0.005,0.0069376394044649665,0.00901429420598704],[0.003,0.003444173659624447,0.004045941878788104],[0.002,0.00265346444142257,0.0034473087055848007]])"
      ]
     },
     "execution_count": 33,
     "metadata": {},
     "output_type": "execute_result"
    }
   ],
   "source": [
    "N1 = 0.5\n",
    "N2 = 0.3\n",
    "N3 = 0.2\n",
    "I1 = N1/100\n",
    "I2 = N2/100\n",
    "I3 = N3/100\n",
    "t_3,s_3,i_3 = kermack_3(N1, N2, N3, I1, I2, I3, 0., 10., gamma, beta)"
   ]
  },
  {
   "cell_type": "code",
   "execution_count": 34,
   "metadata": {
    "collapsed": false
   },
   "outputs": [
    {
     "ename": "LoadError",
     "evalue": "LoadError: ArgumentError: PyPlot not found in path\nwhile loading In[34], in expression starting on line 1",
     "output_type": "error",
     "traceback": [
      "LoadError: ArgumentError: PyPlot not found in path\nwhile loading In[34], in expression starting on line 1",
      ""
     ]
    }
   ],
   "source": [
    "using PyPlot\n",
    "t"
   ]
  }
 ],
 "metadata": {
  "kernelspec": {
   "display_name": "Julia 0.4.5",
   "language": "julia",
   "name": "julia-0.4"
  },
  "language_info": {
   "file_extension": ".jl",
   "mimetype": "application/julia",
   "name": "julia",
   "version": "0.4.5"
  }
 },
 "nbformat": 4,
 "nbformat_minor": 0
}
