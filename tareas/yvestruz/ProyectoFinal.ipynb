{
 "cells": [
  {
   "cell_type": "markdown",
   "metadata": {},
   "source": [
    "# Modelo de Kermack McKendrick"
   ]
  },
  {
   "cell_type": "markdown",
   "metadata": {},
   "source": [
    "hola"
   ]
  },
  {
   "cell_type": "code",
   "execution_count": 1,
   "metadata": {
    "collapsed": false
   },
   "outputs": [],
   "source": [
    "include(\"Taylor.jl\")\n",
    "using ADT"
   ]
  },
  {
   "cell_type": "markdown",
   "metadata": {},
   "source": [
    "Las ecuaciones diferenciales que rigen el modelo para una especie son:\n",
    "\n",
    "$$ \\frac{dS}{dt} = -\\beta SI$$\n",
    "$$ \\frac{dI}{dt} = \\beta SI - \\gamma I $$\n",
    "$$ \\frac{dR}{dt} = \\gamma I $$\n",
    "donde $S$ es el número de individuos suceptibles, $I$ el de individuos infectados y $R$ el de recuperados; así como $\\beta$ es la tasa de transmisión de la infección y $\\gamma$ la tasa de recuperación de la especie.\n",
    "\n",
    "En este modelo NO tomamos en cuenta los nacimientos y muertes, así que para una población fija se tiene que $ N = S(t) + I(t) + R(t)$ en todo tiempo."
   ]
  },
  {
   "cell_type": "code",
   "execution_count": 2,
   "metadata": {
    "collapsed": false
   },
   "outputs": [
    {
     "data": {
      "text/plain": [
       "coefs_1 (generic function with 3 methods)"
      ]
     },
     "execution_count": 2,
     "metadata": {},
     "output_type": "execute_result"
    }
   ],
   "source": [
    "function coefs_1(gamma, beta, S0, I0, R0 = 0.0, n = 20)\n",
    "    s = [S0]\n",
    "    i = [I0]\n",
    "    r = [R0]\n",
    "    \n",
    "    \n",
    "    F1(S,I) = -beta*S*I\n",
    "    F2(I) = gamma*I\n",
    "    \n",
    "    for k = 1:n-1\n",
    "       \n",
    "        \n",
    "        Ts = Taylor(s)\n",
    "        Ti = Taylor(i)\n",
    "        Tr = Taylor(r)\n",
    "        \n",
    "        fs = F1(Ts,Ti) # F1 = -b*S*I\n",
    "        fr = F2(Ti) # F2 = g*I\n",
    "        \n",
    "        fi = -fs -fr # = b*S*I - g*I\n",
    "        \n",
    "        S0 = fs.pol[k]/k\n",
    "        I0 = fi.pol[k]/k\n",
    "        R0 = fr.pol[k]/k\n",
    "        \n",
    "        push!(s,S0)\n",
    "        push!(r,R0)\n",
    "        push!(i,I0)\n",
    "    end\n",
    "    s = Taylor(s)\n",
    "    i = Taylor(i)\n",
    "    r = Taylor(r)\n",
    "    return s,i,r\n",
    "        \n",
    "end"
   ]
  },
  {
   "cell_type": "markdown",
   "metadata": {},
   "source": [
    "Prueba"
   ]
  },
  {
   "cell_type": "code",
   "execution_count": 3,
   "metadata": {
    "collapsed": false,
    "scrolled": false
   },
   "outputs": [
    {
     "ename": "LoadError",
     "evalue": "LoadError: UndefVarError: coefs_2 not defined\nwhile loading In[3], in expression starting on line 155",
     "output_type": "error",
     "traceback": [
      "LoadError: UndefVarError: coefs_2 not defined\nwhile loading In[3], in expression starting on line 155",
      ""
     ]
    }
   ],
   "source": [
    "N = 1000.;\n",
    "I0 = 1.;\n",
    "S0 = N-I0;\n",
    "\n",
    "@time S,I,R = coefs_2(gamma, beta, S0, I0);"
   ]
  },
  {
   "cell_type": "markdown",
   "metadata": {},
   "source": [
    "Error absoluto"
   ]
  },
  {
   "cell_type": "code",
   "execution_count": 4,
   "metadata": {
    "collapsed": false
   },
   "outputs": [
    {
     "data": {
      "text/plain": [
       "1.0e-20"
      ]
     },
     "execution_count": 4,
     "metadata": {},
     "output_type": "execute_result"
    }
   ],
   "source": [
    "eps_abs = 1e-20"
   ]
  },
  {
   "cell_type": "code",
   "execution_count": 5,
   "metadata": {
    "collapsed": false
   },
   "outputs": [
    {
     "data": {
      "text/plain": [
       "paso (generic function with 2 methods)"
      ]
     },
     "execution_count": 5,
     "metadata": {},
     "output_type": "execute_result"
    }
   ],
   "source": [
    "function paso(a::Taylor, p = 20)\n",
    "    \n",
    "    while p != 0 && a.pol[p] == 0\n",
    "       p = p-1;\n",
    "    end\n",
    "    \n",
    "    h = 0.5*(eps_abs/abs(a.pol[p]))^(1/p)\n",
    "end"
   ]
  },
  {
   "cell_type": "code",
   "execution_count": 6,
   "metadata": {
    "collapsed": false
   },
   "outputs": [
    {
     "ename": "LoadError",
     "evalue": "LoadError: UndefVarError: S not defined\nwhile loading In[6], in expression starting on line 1",
     "output_type": "error",
     "traceback": [
      "LoadError: UndefVarError: S not defined\nwhile loading In[6], in expression starting on line 1",
      ""
     ]
    }
   ],
   "source": [
    "paso(S[1])"
   ]
  },
  {
   "cell_type": "code",
   "execution_count": 7,
   "metadata": {
    "collapsed": false
   },
   "outputs": [
    {
     "data": {
      "text/plain": [
       "ev_horner (generic function with 1 method)"
      ]
     },
     "execution_count": 7,
     "metadata": {},
     "output_type": "execute_result"
    }
   ],
   "source": [
    "function ev_horner{T<:Number}(a::Taylor,t0::T)\n",
    "    \n",
    "    n = gradomax(a)\n",
    "    x1 = a.pol[n]\n",
    "    \n",
    "    for k = 1:n-1\n",
    "        x1 = a.pol[n-k] + x1*t0\n",
    "    end\n",
    "    return x1\n",
    "end"
   ]
  },
  {
   "cell_type": "code",
   "execution_count": 8,
   "metadata": {
    "collapsed": false
   },
   "outputs": [
    {
     "data": {
      "text/plain": [
       "integrador_kermack (generic function with 1 method)"
      ]
     },
     "execution_count": 8,
     "metadata": {},
     "output_type": "execute_result"
    }
   ],
   "source": [
    "function integrador_kermack(N, I0, t0, tf, gamma, beta)\n",
    "    \n",
    "    R0 = 0.\n",
    "    S0 = N - I0 - R0\n",
    "    \n",
    "    t = [t0]\n",
    "    s = [S0]\n",
    "    i = [I0]\n",
    "    r = [R0]\n",
    "    \n",
    "    while t0 < tf\n",
    "        \n",
    "        S,I,R = coefs_1(gamma, beta, S0, I0)\n",
    "        \n",
    "        h_s = paso(S)\n",
    "        h_i = paso(I)\n",
    "        h_r = paso(R)\n",
    "        h = min(h_s, h_i, h_r)\n",
    "        \n",
    "        t0 += h\n",
    "        \n",
    "        S0 = ev_horner(S,h)\n",
    "        I0 = ev_horner(I,h)\n",
    "        R0 = ev_horner(R,h)\n",
    "        \n",
    "        push!(t,t0)\n",
    "        push!(s,S0)\n",
    "        push!(i,I0)\n",
    "        push!(r,R0)\n",
    "    end\n",
    "    return t,s,i,r\n",
    "end"
   ]
  },
  {
   "cell_type": "code",
   "execution_count": 9,
   "metadata": {
    "collapsed": false
   },
   "outputs": [
    {
     "name": "stdout",
     "output_type": "stream",
     "text": [
      "  0.701833 seconds (2.07 M allocations: 56.008 MB, 2.59% gc time)\n"
     ]
    }
   ],
   "source": [
    "N = 1.\n",
    "infectados_iniciales = N/1000\n",
    "t_inicial = 0.\n",
    "t_final = 160.\n",
    "beta = 0.2\n",
    "gamma = 0.1\n",
    "\n",
    "@time t,s,i,r = integrador_kermack(N, infectados_iniciales, t_inicial, t_final, gamma, beta);"
   ]
  },
  {
   "cell_type": "code",
   "execution_count": 10,
   "metadata": {
    "collapsed": false
   },
   "outputs": [
    {
     "data": {
      "text/plain": [
       "74"
      ]
     },
     "execution_count": 10,
     "metadata": {},
     "output_type": "execute_result"
    }
   ],
   "source": [
    "length(s)"
   ]
  },
  {
   "cell_type": "code",
   "execution_count": 11,
   "metadata": {
    "collapsed": false,
    "scrolled": false
   },
   "outputs": [
    {
     "data": {
      "image/png": "[encoded data removed]",
      "text/plain": [
       "PyPlot.Figure(PyObject <matplotlib.figure.Figure object at 0x000000002884CEB8>)"
      ]
     },
     "metadata": {},
     "output_type": "display_data"
    }
   ],
   "source": [
    "using PyPlot\n",
    "\n",
    "plot(t,s, color = \"green\", label = \"suceptibles\")\n",
    "plot(t,i, color = \"red\", label = \"infectados\")\n",
    "plot(t,1-s-i)\n",
    "axis([0,160,0,1])\n",
    "grid()\n",
    "legend()\n",
    "show()"
   ]
  },
  {
   "cell_type": "code",
   "execution_count": 12,
   "metadata": {
    "collapsed": false,
    "scrolled": false
   },
   "outputs": [
    {
     "data": {
      "image/png": "[encoded data removed]",
      "text/plain": [
       "PyPlot.Figure(PyObject <matplotlib.figure.Figure object at 0x00000000289E3F98>)"
      ]
     },
     "metadata": {},
     "output_type": "display_data"
    }
   ],
   "source": [
    "plot(t,r)\n",
    "grid()"
   ]
  },
  {
   "cell_type": "code",
   "execution_count": 13,
   "metadata": {
    "collapsed": false
   },
   "outputs": [
    {
     "data": {
      "text/plain": [
       "wtf (generic function with 1 method)"
      ]
     },
     "execution_count": 13,
     "metadata": {},
     "output_type": "execute_result"
    }
   ],
   "source": [
    "function wtf()\n",
    "    return \"WTF\"\n",
    "end"
   ]
  },
  {
   "cell_type": "code",
   "execution_count": 14,
   "metadata": {
    "collapsed": false
   },
   "outputs": [
    {
     "data": {
      "text/plain": [
       "\"WTF\""
      ]
     },
     "execution_count": 14,
     "metadata": {},
     "output_type": "execute_result"
    }
   ],
   "source": [
    "mi_reaccion_ante_la_grafica_de_r = wtf()"
   ]
  },
  {
   "cell_type": "code",
   "execution_count": 15,
   "metadata": {
    "collapsed": false
   },
   "outputs": [
    {
     "data": {
      "text/plain": [
       "false"
      ]
     },
     "execution_count": 15,
     "metadata": {},
     "output_type": "execute_result"
    }
   ],
   "source": [
    "S,I,R = coefs_1(gamma, beta, S0, I0);\n",
    "h = paso(R);\n",
    "\n",
    "a = evaluar(R,h), ev_horner(R,h);\n",
    "\n",
    "a[1] == a[2]"
   ]
  },
  {
   "cell_type": "code",
   "execution_count": 16,
   "metadata": {
    "collapsed": false
   },
   "outputs": [
    {
     "data": {
      "text/plain": [
       "0.0017305278592308162"
      ]
     },
     "execution_count": 16,
     "metadata": {},
     "output_type": "execute_result"
    }
   ],
   "source": [
    "min(paso(R),paso(S))"
   ]
  },
  {
   "cell_type": "markdown",
   "metadata": {},
   "source": [
    "Para un sistema de $K$ especies, el modelo se vuelve\n",
    "\n",
    "$$ \\frac{dS_i}{dt} = -\\sum_{j = 1}^K \\beta_{ij} S_iI_j$$\n",
    "$$ \\frac{dI_i}{dt} = \\sum_{j = 1}^K\\beta_{ij} S_iI_j - \\gamma_i I_i $$\n",
    "$$ \\frac{dR_i}{dt} = \\gamma_i I_i $$\n",
    "donde $S$ es el número de individuos suceptibles, $I$ el de individuos infectados y $R$ el de recuperados; así como $\\beta$ es la tasa de transmisión de la infección y $\\gamma$ la tasa de recuperación de la especie.\n"
   ]
  },
  {
   "cell_type": "markdown",
   "metadata": {},
   "source": [
    "$$ \\frac{dS_i}{dt} = -\\beta_{i1} S_iI_1 - \\beta_{i2} S_iI_2 - \\beta_{i3} S_iI_3$$\n",
    "$$ \\frac{dI_i}{dt} = \\beta_{i1} S_iI_1 + \\beta_{i2} S_iI_2 + \\beta_{i3} S_iI_3 - \\gamma_i I_i $$\n",
    "$$ \\frac{dR_i}{dt} = \\gamma_i I_i $$"
   ]
  },
  {
   "cell_type": "code",
   "execution_count": 17,
   "metadata": {
    "collapsed": false
   },
   "outputs": [
    {
     "data": {
      "text/plain": [
       "coefs_3 (generic function with 3 methods)"
      ]
     },
     "execution_count": 17,
     "metadata": {},
     "output_type": "execute_result"
    }
   ],
   "source": [
    "function coefs_3(gamma, beta, S0_1, S0_2, S0_3, I0_1, I0_2, I0_3, R0 = 0.0, n = 20)\n",
    "    S = Array{Array{Float64,1},1}();\n",
    "    push!(S,[S0_1])\n",
    "    push!(S,[S0_2])\n",
    "    push!(S,[S0_3])\n",
    "    I = Array{Array{Float64,1},1}();\n",
    "    push!(I,[I0_1])\n",
    "    push!(I,[I0_2])\n",
    "    push!(I,[I0_3])\n",
    "\n",
    "        \n",
    "    F1(beta_ij,S,I) = -beta_ij*S*I\n",
    "    F2(gamma_i,I) = gamma_i*I\n",
    "    \n",
    "    for k = 1:n-1\n",
    "        Ts = [Taylor(S[j]) for j in 1:3]\n",
    "        Ti = [Taylor(I[j]) for j in 1:3]\n",
    "        \n",
    "        for i = 1:3\n",
    "            fs = 0\n",
    "            fi = 0\n",
    "            \n",
    "            for j = 1:3\n",
    "                fs += F1(beta[i,j],Ts[i],Ti[j])\n",
    "            end\n",
    "            \n",
    "            fi = -fs - F2(gamma[i],Ti[i])\n",
    "        \n",
    "            S0 = fs.pol[k]/k\n",
    "            I0 = fi.pol[k]/k\n",
    "\n",
    "            push!(S[i], S0)\n",
    "            push!(I[i], I0)\n",
    "        end\n",
    "    end\n",
    "    s = [Taylor(S[i]) for i in 1:3]\n",
    "    i = [Taylor(I[i]) for i in 1:3]\n",
    "    \n",
    "    return s,i\n",
    "end"
   ]
  },
  {
   "cell_type": "code",
   "execution_count": 18,
   "metadata": {
    "collapsed": false
   },
   "outputs": [
    {
     "data": {
      "text/plain": [
       "3-element Array{Float64,1}:\n",
       " 0.117404 \n",
       " 0.0417822\n",
       " 0.0496668"
      ]
     },
     "execution_count": 18,
     "metadata": {},
     "output_type": "execute_result"
    }
   ],
   "source": [
    "beta = rand(3,3)/3\n",
    "gamma = rand(3)/8"
   ]
  },
  {
   "cell_type": "code",
   "execution_count": 19,
   "metadata": {
    "collapsed": false
   },
   "outputs": [
    {
     "name": "stdout",
     "output_type": "stream",
     "text": [
      "  0.371507 seconds (638.88 k allocations: 27.115 MB, 1.47% gc time)\n"
     ]
    }
   ],
   "source": [
    "S0_1 = 99.\n",
    "S0_2 = 90.\n",
    "S0_3 = 93.\n",
    "I0_1 = 1.\n",
    "I0_2 = 3.\n",
    "I0_3 = 2.\n",
    "\n",
    "@time coefs_3(gamma, beta, S0_1, S0_2, S0_3, I0_1, I0_2, I0_3);"
   ]
  },
  {
   "cell_type": "code",
   "execution_count": 106,
   "metadata": {
    "collapsed": false
   },
   "outputs": [
    {
     "data": {
      "text/plain": [
       "kermack_3 (generic function with 1 method)"
      ]
     },
     "execution_count": 106,
     "metadata": {},
     "output_type": "execute_result"
    }
   ],
   "source": [
    "function kermack_3(N1, N2, N3, I0_1, I0_2, I0_3, t0, tf, gamma, beta)\n",
    "    S0_1 = N1 - I0_1\n",
    "    S0_2 = N2 - I0_2\n",
    "    S0_3 = N3 - I0_3\n",
    "        \n",
    "    \n",
    "    t = [t0]\n",
    "    s = Array{Array{Float64,1},1}();\n",
    "    push!(s,[S0_1])\n",
    "    push!(s,[S0_2])\n",
    "    push!(s,[S0_3])\n",
    "    i = Array{Array{Float64,1},1}();\n",
    "    push!(i,[I0_1])\n",
    "    push!(i,[I0_2])\n",
    "    push!(i,[I0_3])\n",
    "    \n",
    "    while t0 < tf\n",
    "        S0_1 = s[1][end]\n",
    "        S0_2 = s[2][end]\n",
    "        S0_3 = s[2][end]\n",
    "        I0_1 = i[1][end]\n",
    "        I0_2 = i[2][end]\n",
    "        I0_3 = i[3][end]\n",
    "        \n",
    "        S,I = coefs_3(gamma, beta, S0_1, S0_2, S0_3, I0_1, I0_2, I0_3)\n",
    "        for k in 1:3\n",
    "            h_s = paso(S[k])\n",
    "            h_i = paso(I[k])\n",
    "            h = min(h_s, h_i)\n",
    "        \n",
    "            t0 += h\n",
    "        \n",
    "            S0 = ev_horner(S[k],h)\n",
    "            I0 = ev_horner(I[k],h)\n",
    "        \n",
    "            push!(t,t0)\n",
    "            push!(s[k],S0)\n",
    "            push!(i[k],I0)\n",
    "        end\n",
    "        \n",
    "    end\n",
    "    return t,s,i\n",
    "end"
   ]
  },
  {
   "cell_type": "code",
   "execution_count": 69,
   "metadata": {
    "collapsed": false
   },
   "outputs": [],
   "source": [
    "S,I = coefs_3(gamma, beta, S0_1, S0_2, S0_3, I1, I2, I3);"
   ]
  },
  {
   "cell_type": "code",
   "execution_count": 91,
   "metadata": {
    "collapsed": false
   },
   "outputs": [
    {
     "data": {
      "text/plain": [
       "0.49254270847469256"
      ]
     },
     "execution_count": 91,
     "metadata": {},
     "output_type": "execute_result"
    }
   ],
   "source": [
    "h_s = paso(S[1])\n",
    "h_i = paso(I[1])\n",
    "h = min(h_s, h_i)\n",
    "s0 = ev_horner(S[1], h)"
   ]
  },
  {
   "cell_type": "code",
   "execution_count": 159,
   "metadata": {
    "collapsed": false
   },
   "outputs": [],
   "source": [
    "t0 = 1.\n",
    "while t0 < 1.5\n",
    "    S,I = coefs_3(gamma, beta, S0_1, S0_2, S0_3, I0_1, I0_2, I0_3)\n",
    "    for k in 1:3\n",
    "        h_s = paso(S[k])\n",
    "        h_i = paso(I[k])\n",
    "        h = min(h_s, h_i)\n",
    "        \n",
    "        t0 += h\n",
    "        S0 = ev_horner(S[k],h)\n",
    "        I0 = ev_horner(I[k],h)\n",
    "        \n",
    "        push!(t,t0)\n",
    "        push!(s[k],S0)\n",
    "        push!(i[k],I0)\n",
    "        end\n",
    "        \n",
    "    end"
   ]
  },
  {
   "cell_type": "code",
   "execution_count": 160,
   "metadata": {
    "collapsed": false
   },
   "outputs": [
    {
     "data": {
      "text/plain": [
       "29-element Array{Float64,1}:\n",
       " 0.0    \n",
       " 1.10583\n",
       " 1.10583\n",
       " 1.20569\n",
       " 1.34217\n",
       " 1.448  \n",
       " 1.54786\n",
       " 1.68433\n",
       " 1.79016\n",
       " 1.89002\n",
       " 2.0265 \n",
       " 2.13233\n",
       " 2.23219\n",
       " ⋮      \n",
       " 2.81666\n",
       " 2.91652\n",
       " 3.05299\n",
       " 1.10583\n",
       " 1.20569\n",
       " 1.34217\n",
       " 1.10583\n",
       " 1.20569\n",
       " 1.34217\n",
       " 1.448  \n",
       " 1.54786\n",
       " 1.68433"
      ]
     },
     "execution_count": 160,
     "metadata": {},
     "output_type": "execute_result"
    }
   ],
   "source": [
    "t"
   ]
  },
  {
   "cell_type": "code",
   "execution_count": 149,
   "metadata": {
    "collapsed": false
   },
   "outputs": [
    {
     "data": {
      "text/plain": [
       "3-element Array{Array{Float64,1},1}:\n",
       " [1.0]\n",
       " [3.0]\n",
       " [2.0]"
      ]
     },
     "execution_count": 149,
     "metadata": {},
     "output_type": "execute_result"
    }
   ],
   "source": [
    "s = Array{Array{Float64,1},1}();\n",
    "    push!(s,[S0_1])\n",
    "    push!(s,[S0_2])\n",
    "    push!(s,[S0_3])\n",
    "i = Array{Array{Float64,1},1}();\n",
    "    push!(i,[I0_1])\n",
    "    push!(i,[I0_2])\n",
    "    push!(i,[I0_3])"
   ]
  },
  {
   "cell_type": "code",
   "execution_count": 99,
   "metadata": {
    "collapsed": false
   },
   "outputs": [],
   "source": [
    "S,I = coefs_3(gamma, beta, S0_1, S0_2, S0_3, I0_1, I0_2, I0_3);"
   ]
  },
  {
   "cell_type": "code",
   "execution_count": 101,
   "metadata": {
    "collapsed": false
   },
   "outputs": [
    {
     "data": {
      "text/plain": [
       "20-element Array{Float64,1}:\n",
       "  0.495      \n",
       " -0.684073   \n",
       "  0.415823   \n",
       " -0.106625   \n",
       " -0.0276558  \n",
       "  0.0355895  \n",
       " -0.0120381  \n",
       " -0.00134227 \n",
       "  0.00314413 \n",
       " -0.00128155 \n",
       " -1.59688e-5 \n",
       "  0.000275244\n",
       " -0.000134281\n",
       "  9.53126e-6 \n",
       "  2.34698e-5 \n",
       " -1.38199e-5 \n",
       "  2.00447e-6 \n",
       "  1.91512e-6 \n",
       " -1.39336e-6 \n",
       "  2.9824e-7  "
      ]
     },
     "execution_count": 101,
     "metadata": {},
     "output_type": "execute_result"
    }
   ],
   "source": [
    "S[1].pol"
   ]
  },
  {
   "cell_type": "code",
   "execution_count": 95,
   "metadata": {
    "collapsed": false
   },
   "outputs": [
    {
     "data": {
      "text/plain": [
       "2-element Array{Float64,1}:\n",
       " 0.005     \n",
       " 0.00629429"
      ]
     },
     "execution_count": 95,
     "metadata": {},
     "output_type": "execute_result"
    }
   ],
   "source": [
    "push!(i[1], i0)"
   ]
  },
  {
   "cell_type": "code",
   "execution_count": 92,
   "metadata": {
    "collapsed": false
   },
   "outputs": [
    {
     "data": {
      "text/plain": [
       "2-element Array{Float64,1}:\n",
       " 0.495   \n",
       " 0.492543"
      ]
     },
     "execution_count": 92,
     "metadata": {},
     "output_type": "execute_result"
    }
   ],
   "source": [
    "push!(s[1], s0)"
   ]
  },
  {
   "cell_type": "code",
   "execution_count": 122,
   "metadata": {
    "collapsed": false
   },
   "outputs": [
    {
     "data": {
      "text/plain": [
       "([0.0,1.614427320424363,3.312072407784895,5.075500757473631,6.598973574594021,8.08571479342093,9.926841323552889,11.340921723625575,12.736057494303923,14.403316138562829],[[0.495,0.4927451934718649,0.4900723135665016,0.4870086926686782],[0.297,0.295292859672395,0.29338865753074883,0.2911515515991626],[0.198,0.296413874933479,0.29454202026487364,0.29256762655872687]],[[0.005,0.006198091466261713,0.007638246621163709,0.009300302680725504],[0.003,0.0044451874210873505,0.006025896266514799,0.007860026743384365],[0.002,0.0023943297707023116,0.0029038445434843947,0.0034621245281693785]])"
      ]
     },
     "execution_count": 122,
     "metadata": {},
     "output_type": "execute_result"
    }
   ],
   "source": [
    "N1 = 0.5\n",
    "N2 = 0.3\n",
    "N3 = 0.2\n",
    "I1 = N1/100\n",
    "I2 = N2/100\n",
    "I3 = N3/100\n",
    "t_3,s_3,i_3 = kermack_3(N1, N2, N3, I1, I2, I3, 0., 10., gamma, beta)"
   ]
  },
  {
   "cell_type": "code",
   "execution_count": 158,
   "metadata": {
    "collapsed": false
   },
   "outputs": [
    {
     "data": {
      "text/plain": [
       "23-element Array{Float64,1}:\n",
       " 0.0    \n",
       " 1.10583\n",
       " 1.10583\n",
       " 1.20569\n",
       " 1.34217\n",
       " 1.448  \n",
       " 1.54786\n",
       " 1.68433\n",
       " 1.79016\n",
       " 1.89002\n",
       " 2.0265 \n",
       " 2.13233\n",
       " 2.23219\n",
       " 2.36866\n",
       " 2.47449\n",
       " 2.57435\n",
       " 2.71083\n",
       " 2.81666\n",
       " 2.91652\n",
       " 3.05299\n",
       " 1.10583\n",
       " 1.20569\n",
       " 1.34217"
      ]
     },
     "execution_count": 158,
     "metadata": {},
     "output_type": "execute_result"
    }
   ],
   "source": [
    "using PyPlot\n",
    "t"
   ]
  }
 ],
 "metadata": {
  "kernelspec": {
   "display_name": "Julia 0.4.3",
   "language": "julia",
   "name": "julia-0.4"
  },
  "language_info": {
   "file_extension": ".jl",
   "mimetype": "application/julia",
   "name": "julia",
   "version": "0.4.3"
  }
 },
 "nbformat": 4,
 "nbformat_minor": 0
}
